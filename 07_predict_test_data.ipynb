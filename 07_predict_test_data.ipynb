{
 "cells": [
  {
   "cell_type": "markdown",
   "id": "3bf22685-cd04-464b-a132-576d1505fa99",
   "metadata": {},
   "source": [
    "# 07. モデルでテストデータの予想をする"
   ]
  },
  {
   "cell_type": "markdown",
   "id": "45107557-d927-4692-9a39-ba6646b66a68",
   "metadata": {},
   "source": [
    "【このノートで実施すること】</br>\n",
    "　学習したモデルでテストデータの予想をしてみます。</br>\n",
    "　また、hjcデータを参照して、実際に売買していたらどれくらい利益が出るのかを確認してみます。<br>\n",
    "</br>\n",
    "【入力】</br>\n",
    "　・data/06_test_data_and_learned_model/best_lightgbm_model.plk</br>\n",
    "　・data/06_test_data_and_learned_model/X_test.pkl</br>\n",
    "　・data/06_test_data_and_learned_model/y_test.pkl</br>\n",
    "</br>\n",
    "【出力】</br>\n",
    "　　なし</br>\n",
    "</br>"
   ]
  },
  {
   "cell_type": "markdown",
   "id": "29ba52c4-d4c6-4871-9c7a-fcd0521b77b9",
   "metadata": {},
   "source": [
    "## 07.1 準備"
   ]
  },
  {
   "cell_type": "markdown",
   "id": "50c886e0-0c63-4409-a5f0-86076ba31a6f",
   "metadata": {},
   "source": [
    "必要なモジュールをインポートしたり、テストデータと学習済みモデルを読み込んだりしています。"
   ]
  },
  {
   "cell_type": "code",
   "execution_count": 1,
   "id": "ee7c6028-7352-428d-894f-3ebbbb4776d3",
   "metadata": {},
   "outputs": [],
   "source": [
    "import pickle\n",
    "import joblib\n",
    "from sklearn.metrics import accuracy_score, classification_report\n",
    "import pandas as pd\n",
    "import numpy as np\n",
    "import matplotlib.pyplot as plt\n",
    "\n",
    "# インストールしてない場合はコメントアウトしてください\n",
    "import japanize_matplotlib"
   ]
  },
  {
   "cell_type": "code",
   "execution_count": 2,
   "id": "975dbfb4-ebcc-427b-9fda-82fb1e530385",
   "metadata": {},
   "outputs": [],
   "source": [
    "# テストデータを読み込む\n",
    "with open('data/06_test_data_and_learned_model/X_test.pkl', 'rb') as file:\n",
    "    X_test = pickle.load(file)\n",
    "    \n",
    "with open('data/06_test_data_and_learned_model/y_test.pkl', 'rb') as file:\n",
    "    y_test = pickle.load(file)"
   ]
  },
  {
   "cell_type": "code",
   "execution_count": 3,
   "id": "a3e06781-49f1-4af5-930c-38d2ec85430f",
   "metadata": {},
   "outputs": [],
   "source": [
    "# モデルを読み込む\n",
    "loaded_model = joblib.load('data/06_test_data_and_learned_model/best_lightgbm_model.pkl')"
   ]
  },
  {
   "cell_type": "markdown",
   "id": "8305e78b-44d6-4ba3-a180-92e49258a5ef",
   "metadata": {},
   "source": [
    "## 07.2 テストデータの予想をしてみる"
   ]
  },
  {
   "cell_type": "markdown",
   "id": "69dcff7f-b071-4f4b-9cf2-6b44c3ec146b",
   "metadata": {},
   "source": [
    "学習済みモデルでテストデータの予想を行い、精度（どれくらい予測が的中するのか）を確認してみます。"
   ]
  },
  {
   "cell_type": "code",
   "execution_count": 4,
   "id": "c519ccd7-4cf9-4a43-8ea9-ffec96ea3d74",
   "metadata": {},
   "outputs": [
    {
     "name": "stdout",
     "output_type": "stream",
     "text": [
      "テストデータの精度: 0.8103841326491407\n",
      "              precision    recall  f1-score   support\n",
      "\n",
      "           0       0.83      0.95      0.89    182131\n",
      "           1       0.65      0.33      0.44     52111\n",
      "\n",
      "    accuracy                           0.81    234242\n",
      "   macro avg       0.74      0.64      0.66    234242\n",
      "weighted avg       0.79      0.81      0.79    234242\n",
      "\n"
     ]
    }
   ],
   "source": [
    "# テストデータでモデルを評価する\n",
    "\n",
    "# 学習に使わないカラム\n",
    "drop_col = \"KYI_レースキー\"\n",
    "X_test_dropped = X_test.drop(drop_col, axis=1)\n",
    "\n",
    "y_pred = loaded_model.predict(X_test_dropped)\n",
    "\n",
    "print(\"テストデータの精度:\", accuracy_score(y_test, y_pred))\n",
    "print(classification_report(y_test, y_pred))"
   ]
  },
  {
   "cell_type": "markdown",
   "id": "066ba7bc-00e0-4f6f-b3c4-02702a13b9c1",
   "metadata": {},
   "source": [
    "## 07.3 馬券を買っていた場合の利益を調べる"
   ]
  },
  {
   "cell_type": "markdown",
   "id": "f552ec4f-cb37-411d-9249-fcc3903b2ff8",
   "metadata": {},
   "source": [
    "hjcデータを利用して、実際に馬券を購入していたらどれくらいの利益になるのか計算してみます。<br>\n",
    "機械学習モデルが3着以内に入ると予想した馬に対して、複勝100円を毎回購入するものとします。<br>"
   ]
  },
  {
   "cell_type": "code",
   "execution_count": 5,
   "id": "aef4472d-5d0c-4d2e-a31f-f24925ffb08a",
   "metadata": {},
   "outputs": [],
   "source": [
    "# hjcデータを読み込む\n",
    "with open('data/03_preprocessed_data/df_hjc.pkl', 'rb') as file:\n",
    "    df_hjc = pickle.load(file)"
   ]
  },
  {
   "cell_type": "code",
   "execution_count": 6,
   "id": "c24b030c-068c-4c5d-9658-40ce5cea38bc",
   "metadata": {},
   "outputs": [],
   "source": [
    "# X_testとdf_hjcを\"レースキー\"を使って結合\n",
    "# ここで\"KYI_レースキー\"が必要だったため、ノートブック05で生成する”columns_info.json”ファイルの\"usage\"属性に”key”という値を設けています。\n",
    "df_kyi_hjc = pd.merge(X_test, df_hjc, left_on='KYI_レースキー', right_on='レースキー', how='left')"
   ]
  },
  {
   "cell_type": "code",
   "execution_count": 7,
   "id": "2acf0490-aa0d-4681-b10c-014e9f49757b",
   "metadata": {},
   "outputs": [],
   "source": [
    "# モデルの予想した結果をpd.dataframe形式に変換\n",
    "y_pred_df = pd.DataFrame(y_pred, columns=['複勝_予想'])\n",
    "\n",
    "# テストデータの 説明変数、目的変数、モデルの予想した結果 を結合\n",
    "result_df = pd.concat([df_kyi_hjc.reset_index(drop=True), y_test.reset_index(drop=True), y_pred_df.reset_index(drop=True)], axis=1)"
   ]
  },
  {
   "cell_type": "code",
   "execution_count": 8,
   "id": "fd65c668-f162-4531-91d0-1ef3f4c151be",
   "metadata": {},
   "outputs": [],
   "source": [
    "# 馬券が的中したか調べ、払戻金から利益を計算します\n",
    "def calculate_betting_profit(df):\n",
    "    # \"的中\"カラムを作成\n",
    "    df['的中'] = np.where(df['複勝_予想'] == df['3着以内'], 1, 0)\n",
    "\n",
    "    # \"利益\"カラムを計算\n",
    "    def calculate_profit(row):\n",
    "        if row['複勝_予想'] == 0: # 馬券を買ってないとき\n",
    "            return 0       \n",
    "        elif row['的中'] == 0: # 馬券を買って、外れたとき \n",
    "            return -100\n",
    "        else: # 馬券を買って、的中したとき\n",
    "            if row['KYI_馬番'] == row['複勝払戻1_馬番']:\n",
    "                return row['複勝払戻1_払戻金'] - 100\n",
    "            elif row['KYI_馬番'] == row['複勝払戻2_馬番']:\n",
    "                return row['複勝払戻2_払戻金'] - 100\n",
    "            elif row['KYI_馬番'] == row['複勝払戻3_馬番']:\n",
    "                return row['複勝払戻3_払戻金'] - 100\n",
    "            else:\n",
    "                return None  # 一致する馬番がない場合\n",
    "\n",
    "    # \"利益\"カラムをDataFrameに適用\n",
    "    df['利益'] = df.apply(calculate_profit, axis=1)\n",
    "\n",
    "    return df"
   ]
  },
  {
   "cell_type": "code",
   "execution_count": 9,
   "id": "4c0f648a-8074-41b6-b0cd-00a60b21802b",
   "metadata": {},
   "outputs": [],
   "source": [
    "# メソッドを使用して新しいカラムを計算\n",
    "result_df = calculate_betting_profit(result_df)"
   ]
  },
  {
   "cell_type": "code",
   "execution_count": null,
   "id": "29e67b69-0d7c-4f2b-9489-67d44cda985b",
   "metadata": {},
   "outputs": [],
   "source": [
    "#　新しく生成されたカラムの確認\n",
    "# 「的中」カラムと「利益」カラムが生成されているはずです。\n",
    "result_df.head()"
   ]
  },
  {
   "cell_type": "code",
   "execution_count": 11,
   "id": "c8c4c6b7-f2a1-4dfc-964d-a7e7c555669f",
   "metadata": {},
   "outputs": [
    {
     "data": {
      "image/png": "[encoded data removed]",
      "text/plain": [
       "<Figure size 1000x600 with 1 Axes>"
      ]
     },
     "metadata": {},
     "output_type": "display_data"
    }
   ],
   "source": [
    "# 利益カラムのリスト\n",
    "profit_columns = ['利益']\n",
    "\n",
    "# 線グラフを描画\n",
    "plt.figure(figsize=(10,6))\n",
    "\n",
    "for profit_col in profit_columns:\n",
    "    # \"利益\"カラムの累積和を計算\n",
    "    result_df['累積' + profit_col] = result_df[profit_col].cumsum()\n",
    "\n",
    "    # 累積利益の線グラフをプロット\n",
    "    plt.plot(result_df['累積' + profit_col], label='累積' + profit_col)\n",
    "\n",
    "# グラフのタイトルと軸ラベルを設定\n",
    "plt.title('累積利益の推移')\n",
    "plt.xlabel('レコード数')\n",
    "plt.ylabel('累積利益')\n",
    "\n",
    "# 凡例を表示\n",
    "plt.legend()\n",
    "\n",
    "# グリッドを表示\n",
    "plt.grid(True)\n",
    "\n",
    "# グラフを表示\n",
    "plt.show()"
   ]
  },
  {
   "cell_type": "markdown",
   "id": "45c6d7ca-63fa-4f68-a162-812bc43bf885",
   "metadata": {},
   "source": [
    "結果、<strong>すごいマイナス</strong>になってしまいました笑<br>\n",
    "モデルの精度は80％を超えているので、そこそこ的中はするのですが、オッズが低く、当たったとしても100円が130円になって30円しか利益が出ない、ということがザラでした。<br>\n",
    "一方、馬券を外してしまうとマイナス100円なので、一発外した時のマイナスが大きく、的中した馬券でそれを取り返すことができていないようです。<br>\n",
    "<br>\n",
    "モデルにはまだまだ改良の余地がありそうなので、色々試してみたいなと思いました。<br>\n",
    "<br>\n",
    "<strong>試してみたいこと</strong><br>\n",
    "・騎手や調教師の情報も使って学習してみる<br>\n",
    "・LightGBM以外のモデルを使ってみる<br>\n",
    "・特定のレース場のみ、芝コースのみ、など条件を絞って学習してみる<br>\n",
    "<br>\n",
    "<br>\n",
    "謝辞：ここまで読んでくださってありがとうございました！<br>"
   ]
  },
  {
   "cell_type": "code",
   "execution_count": null,
   "id": "5e7a848d-31bf-45be-b88f-8815af4310b2",
   "metadata": {},
   "outputs": [],
   "source": []
  }
 ],
 "metadata": {
  "kernelspec": {
   "display_name": "Python 3 (ipykernel)",
   "language": "python",
   "name": "python3"
  },
  "language_info": {
   "codemirror_mode": {
    "name": "ipython",
    "version": 3
   },
   "file_extension": ".py",
   "mimetype": "text/x-python",
   "name": "python",
   "nbconvert_exporter": "python",
   "pygments_lexer": "ipython3",
   "version": "3.12.0"
  }
 },
 "nbformat": 4,
 "nbformat_minor": 5
}
