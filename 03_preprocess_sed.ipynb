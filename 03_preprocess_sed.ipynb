{
 "cells": [
  {
   "cell_type": "markdown",
   "id": "fc98b352-c6dc-4150-8200-7c3ca0c8a988",
   "metadata": {},
   "source": [
    "# 03. sedデータの前処理"
   ]
  },
  {
   "cell_type": "markdown",
   "id": "2e7702de-b9dc-48a1-a195-e82dfe0d6402",
   "metadata": {},
   "source": [
    "【このノートで実施すること】</br>\n",
    "　機械学習に使用するため、テーブルデータの中身を精査し、データ型を変更したり、欠損している値を補完したりします。</br>\n",
    "　このノートではsedデータについて処理します。</br>\n",
    "</br>\n",
    "【入力】</br>\n",
    "　・data/02_format_data/df_sed.plk</br>\n",
    "</br>\n",
    "【出力】</br>\n",
    "　・data/03_preprocessed_data/df_sed.pkl</br>\n",
    "</br>"
   ]
  },
  {
   "cell_type": "markdown",
   "id": "a3a0138c-019c-4af1-9a9e-1fd0c2a2151b",
   "metadata": {},
   "source": [
    "## 03.1. 準備"
   ]
  },
  {
   "cell_type": "markdown",
   "id": "bc14057f-99a5-4888-9d7a-2d1772f47341",
   "metadata": {},
   "source": [
    "必要なモジュールをインポートしたり、データを分析するメソッドを用意したり、データを読み込んだりしています。"
   ]
  },
  {
   "cell_type": "code",
   "execution_count": null,
   "id": "8e6b88e9-2127-4422-baa4-02d63dc252f5",
   "metadata": {},
   "outputs": [],
   "source": [
    "# 必要なモジュールをインポート\n",
    "import pandas as pd\n",
    "import pickle\n",
    "import os"
   ]
  },
  {
   "cell_type": "code",
   "execution_count": null,
   "id": "75e95969-2a73-4e98-9783-184d10f57c17",
   "metadata": {},
   "outputs": [],
   "source": [
    "# データの分析結果を出すメソッドを用意\n",
    "def make_analysis_df(df):\n",
    "\n",
    "    # 分析用の情報を取得\n",
    "    num_non_empty = df.count()\n",
    "    num_empty = df.isna().sum()\n",
    "    empty_percentage = (num_empty / len(df)) * 100\n",
    "    data_types = df.dtypes\n",
    "    unique_counts = df.nunique()\n",
    "    \n",
    "    # 新しいDataFrameを作成\n",
    "    analysis_df = pd.DataFrame({\n",
    "        'カラム名': df.columns,\n",
    "        '空でないデータ数': num_non_empty.values,\n",
    "        '空白データ数': num_empty.values,\n",
    "        '空白率（％）': empty_percentage.values,\n",
    "        'データ型': data_types.values,\n",
    "        'ユニークな値の数': unique_counts.values\n",
    "    })\n",
    "    return analysis_df"
   ]
  },
  {
   "cell_type": "code",
   "execution_count": null,
   "id": "68f70216-3332-41b6-985d-9ad4ee04c076",
   "metadata": {},
   "outputs": [],
   "source": [
    "# 全カラム、全レコードを表示するように設定\n",
    "pd.set_option('display.max_columns', None)\n",
    "pd.set_option('display.max_rows', None)"
   ]
  },
  {
   "cell_type": "code",
   "execution_count": null,
   "id": "d8985592-580d-421c-b05b-db08fea22bd6",
   "metadata": {},
   "outputs": [],
   "source": [
    "# データを読み込む\n",
    "with open('data/02_format_data/df_sed.pkl', 'rb') as file:\n",
    "    df_sed = pickle.load(file)"
   ]
  },
  {
   "cell_type": "markdown",
   "id": "f1b0d038-2a74-43c3-b371-7cc3151cda3e",
   "metadata": {},
   "source": [
    "## 03.2. データを確認する"
   ]
  },
  {
   "cell_type": "markdown",
   "id": "74e93ea1-1d8c-4fb0-b783-eb5047e1c3a1",
   "metadata": {},
   "source": [
    "データの中身を確認します"
   ]
  },
  {
   "cell_type": "code",
   "execution_count": null,
   "id": "998e3d8d-215f-4b78-a899-bb1a03d53709",
   "metadata": {},
   "outputs": [],
   "source": [
    "# 先頭の数行を表示\n",
    "df_sed.head()"
   ]
  },
  {
   "cell_type": "code",
   "execution_count": null,
   "id": "71081052-478c-41a9-96b5-56bb03eca9c8",
   "metadata": {},
   "outputs": [],
   "source": [
    "# 分析結果を表示する\n",
    "df_sed_analyzed_before = make_analysis_df(df_sed)\n",
    "df_sed_analyzed_before"
   ]
  },
  {
   "cell_type": "markdown",
   "id": "4a0616f0-8a54-4bbf-9e9c-9dd78e9e681b",
   "metadata": {},
   "source": [
    "## 03.3. 前処理"
   ]
  },
  {
   "cell_type": "markdown",
   "id": "f7c5ba81-453b-47c8-a0a0-c618086b9c7c",
   "metadata": {},
   "source": [
    "必要に応じてデータを加工します。<br>\n",
    "各項目の意味についてはJRDBの仕様書を参照ください。<br>\n",
    "<br>\n",
    "引用：<br>\n",
    "　成績データ仕様　第4版α：http://www.jrdb.com/program/Sed/sed_doc.txt<br>\n",
    "　成績データ仕様書内容の説明：http://www.jrdb.com/program/Sed/sedsiyo_doc.txt<br>\n",
    "　ＪＲＤＢデータコード表：http://www.jrdb.com/program/jrdb_code.txt<br>"
   ]
  },
  {
   "cell_type": "code",
   "execution_count": null,
   "id": "97fdb483-7fd3-4806-b904-048e65ca6184",
   "metadata": {},
   "outputs": [],
   "source": [
    "df_sed['馬番'] = pd.to_numeric(df_sed['馬番'], errors='coerce')\n",
    "df_sed['馬番'] = df_sed['馬番'].astype(int)\n",
    "\n",
    "df_sed['競走成績キー'] = df_sed['競走成績キー_血統登録番号'] + df_sed['競走成績キー_年月日']\n",
    "\n",
    "df_sed['レース条件_距離'] = pd.to_numeric(df_sed['レース条件_距離'], errors='coerce')\n",
    "df_sed['レース条件_距離'] = df_sed['レース条件_距離'].astype(int)\n",
    "\n",
    "df_sed['レース条件_トラック情報_芝ダ障害コード'] = df_sed['レース条件_トラック情報_芝ダ障害コード'].astype('category')\n",
    "\n",
    "df_sed['レース条件_トラック情報_右左'] = df_sed['レース条件_トラック情報_右左'].astype('category')\n",
    "\n",
    "df_sed['レース条件_トラック情報_内外'] = df_sed['レース条件_トラック情報_内外'].astype('category')\n",
    "\n",
    "df_sed['レース条件_馬場状態'] = df_sed['レース条件_馬場状態'].astype('category')\n",
    "\n",
    "df_sed['レース条件_種別'] = df_sed['レース条件_種別'].astype('category')\n",
    "\n",
    "df_sed['レース条件_条件'] = df_sed['レース条件_条件'].astype('category')\n",
    "\n",
    "# 'レース条件_記号' 列を3つの新しいカラムに分割\n",
    "df_sed['レース条件_記号1'] = df_sed['レース条件_記号'].str[0]\n",
    "df_sed['レース条件_記号2'] = df_sed['レース条件_記号'].str[1:3]\n",
    "df_sed['レース条件_記号3'] = df_sed['レース条件_記号'].str[3:]\n",
    "# 'レース条件_記号' 列を削除\n",
    "df_sed.drop(columns=['レース条件_記号'], inplace=True)\n",
    "# カテゴリ型に変換\n",
    "df_sed['レース条件_記号1'] = df_sed['レース条件_記号1'].astype('category')\n",
    "df_sed['レース条件_記号2'] = df_sed['レース条件_記号2'].astype('category')\n",
    "df_sed['レース条件_記号3'] = df_sed['レース条件_記号3'].astype('category')\n",
    "\n",
    "df_sed['レース条件_重量'] = df_sed['レース条件_重量'].astype('category')\n",
    "\n",
    "df_sed['レース条件_頭数'] = pd.to_numeric(df_sed['レース条件_頭数'], errors='coerce')\n",
    "mean_value = df_sed['レース条件_頭数'].mean()\n",
    "df_sed['レース条件_頭数'] = df_sed['レース条件_頭数'].fillna(mean_value).astype(float)\n",
    "\n",
    "df_sed['馬成績_着順'] = pd.to_numeric(df_sed['馬成績_着順'], errors='coerce')\n",
    "mean_value = df_sed['馬成績_着順'].mean()\n",
    "df_sed['馬成績_着順'] = df_sed['馬成績_着順'].fillna(mean_value).astype(int)\n",
    "\n",
    "df_sed['馬成績_異常区分'] = df_sed['馬成績_異常区分'].astype('category')\n",
    "\n",
    "# ------------------\n",
    "# '馬成績_タイム' カラムを秒に変換する関数\n",
    "def convert_time_to_seconds(time_str):\n",
    "    # 空白文字が含まれている場合の処理\n",
    "    if time_str.strip() == '' or ' ' in time_str:\n",
    "        return float(9 * 60 + 999 / 10.0)\n",
    "    # 分と秒の部分を抽出\n",
    "    minutes = int(time_str[0])\n",
    "    seconds = int(time_str[1:])    \n",
    "    # 秒に変換して返す（0.1秒単位から秒単位に変換）\n",
    "    return float(minutes * 60 + seconds / 10.0)\n",
    "\n",
    "# '馬成績_タイム' カラムを変換\n",
    "df_sed['馬成績_タイム'] = df_sed['馬成績_タイム'].apply(convert_time_to_seconds)\n",
    "# ------------------\n",
    "\n",
    "df_sed['馬成績_斤量'] = pd.to_numeric(df_sed['馬成績_斤量'], errors='coerce')\n",
    "df_sed['馬成績_斤量'] = df_sed['馬成績_斤量'].astype(float)\n",
    "\n",
    "df_sed['馬成績_確定単勝オッズ'] = pd.to_numeric(df_sed['馬成績_確定単勝オッズ'], errors='coerce')\n",
    "df_sed['馬成績_確定単勝オッズ'] = df_sed['馬成績_確定単勝オッズ'].astype(float)\n",
    "\n",
    "df_sed['馬成績_確定単勝人気順位'] = pd.to_numeric(df_sed['馬成績_確定単勝人気順位'], errors='coerce')\n",
    "mean_value = df_sed['馬成績_確定単勝人気順位'].mean()\n",
    "df_sed['馬成績_確定単勝人気順位'] = df_sed['馬成績_確定単勝人気順位'].fillna(mean_value).astype(int)\n",
    "\n",
    "df_sed['ＪＲＤＢデータ_ＩＤＭ'] = pd.to_numeric(df_sed['ＪＲＤＢデータ_ＩＤＭ'], errors='coerce')\n",
    "df_sed['ＪＲＤＢデータ_ＩＤＭ'] = df_sed['ＪＲＤＢデータ_ＩＤＭ'].astype(float)\n",
    "\n",
    "df_sed['ＪＲＤＢデータ_素点'] = pd.to_numeric(df_sed['ＪＲＤＢデータ_素点'], errors='coerce')\n",
    "df_sed['ＪＲＤＢデータ_素点'] = df_sed['ＪＲＤＢデータ_素点'].astype(float)\n",
    "df_sed['ＪＲＤＢデータ_馬場差'] = pd.to_numeric(df_sed['ＪＲＤＢデータ_馬場差'], errors='coerce')\n",
    "df_sed['ＪＲＤＢデータ_馬場差'] = df_sed['ＪＲＤＢデータ_馬場差'].astype(float)\n",
    "df_sed['ＪＲＤＢデータ_ペース'] = pd.to_numeric(df_sed['ＪＲＤＢデータ_ペース'], errors='coerce')\n",
    "df_sed['ＪＲＤＢデータ_ペース'] = df_sed['ＪＲＤＢデータ_ペース'].astype(float)\n",
    "\n",
    "df_sed['ＪＲＤＢデータ_コース取り'] = df_sed['ＪＲＤＢデータ_コース取り'].astype('category')\n",
    "\n",
    "df_sed['ＪＲＤＢデータ_上昇度コード'] = df_sed['ＪＲＤＢデータ_上昇度コード'].astype('category')\n",
    "\n",
    "df_sed['ＪＲＤＢデータ_クラスコード'] = df_sed['ＪＲＤＢデータ_クラスコード'].astype('category')\n",
    "\n",
    "df_sed['ＪＲＤＢデータ_馬体コード'] = df_sed['ＪＲＤＢデータ_馬体コード'].astype('category')\n",
    "\n",
    "df_sed['ＪＲＤＢデータ_気配コード'] = df_sed['ＪＲＤＢデータ_気配コード'].astype('category')\n",
    "\n",
    "df_sed['ＪＲＤＢデータ_レースペース'] = df_sed['ＪＲＤＢデータ_レースペース'].astype('category')\n",
    "\n",
    "df_sed['ＪＲＤＢデータ_馬ペース'] = df_sed['ＪＲＤＢデータ_馬ペース'].astype('category')\n",
    "\n",
    "df_sed['ＪＲＤＢデータ_テン指数'] = pd.to_numeric(df_sed['ＪＲＤＢデータ_テン指数'], errors='coerce')\n",
    "mean_value = df_sed['ＪＲＤＢデータ_テン指数'].mean()\n",
    "df_sed['ＪＲＤＢデータ_テン指数'] = df_sed['ＪＲＤＢデータ_テン指数'].fillna(mean_value).astype(float)\n",
    "\n",
    "df_sed['ＪＲＤＢデータ_上がり指数'] = pd.to_numeric(df_sed['ＪＲＤＢデータ_上がり指数'], errors='coerce')\n",
    "mean_value = df_sed['ＪＲＤＢデータ_上がり指数'].mean()\n",
    "df_sed['ＪＲＤＢデータ_上がり指数'] = df_sed['ＪＲＤＢデータ_上がり指数'].fillna(mean_value).astype(float)\n",
    "\n",
    "df_sed['ＪＲＤＢデータ_ペース指数'] = pd.to_numeric(df_sed['ＪＲＤＢデータ_ペース指数'], errors='coerce')\n",
    "mean_value = df_sed['ＪＲＤＢデータ_ペース指数'].mean()\n",
    "df_sed['ＪＲＤＢデータ_ペース指数'] = df_sed['ＪＲＤＢデータ_ペース指数'].fillna(mean_value).astype(float)\n",
    "\n",
    "df_sed['ＪＲＤＢデータ_レースＰ指数'] = pd.to_numeric(df_sed['ＪＲＤＢデータ_レースＰ指数'], errors='coerce')\n",
    "mean_value = df_sed['ＪＲＤＢデータ_レースＰ指数'].mean()\n",
    "df_sed['ＪＲＤＢデータ_レースＰ指数'] = df_sed['ＪＲＤＢデータ_レースＰ指数'].fillna(mean_value).astype(float)\n",
    "\n",
    "df_sed['ＪＲＤＢデータ_1(2)着タイム差'] = pd.to_numeric(df_sed['ＪＲＤＢデータ_1(2)着タイム差'], errors='coerce')\n",
    "mean_value = df_sed['ＪＲＤＢデータ_1(2)着タイム差'].mean()\n",
    "df_sed['ＪＲＤＢデータ_1(2)着タイム差'] = df_sed['ＪＲＤＢデータ_1(2)着タイム差'].fillna(mean_value).astype(float)\n",
    "\n",
    "df_sed['ＪＲＤＢデータ_前３Ｆタイム'] = pd.to_numeric(df_sed['ＪＲＤＢデータ_前３Ｆタイム'], errors='coerce')\n",
    "mean_value = df_sed['ＪＲＤＢデータ_前３Ｆタイム'].mean()\n",
    "df_sed['ＪＲＤＢデータ_前３Ｆタイム'] = df_sed['ＪＲＤＢデータ_前３Ｆタイム'].fillna(mean_value).astype(float)\n",
    "\n",
    "df_sed['ＪＲＤＢデータ_後３Ｆタイム'] = pd.to_numeric(df_sed['ＪＲＤＢデータ_後３Ｆタイム'], errors='coerce')\n",
    "mean_value = df_sed['ＪＲＤＢデータ_後３Ｆタイム'].mean()\n",
    "df_sed['ＪＲＤＢデータ_後３Ｆタイム'] = df_sed['ＪＲＤＢデータ_後３Ｆタイム'].fillna(mean_value).astype(float)\n",
    "\n",
    "df_sed['確定複勝オッズ下'] = pd.to_numeric(df_sed['確定複勝オッズ下'], errors='coerce')\n",
    "mean_value = df_sed['確定複勝オッズ下'].mean()\n",
    "df_sed['確定複勝オッズ下'] = df_sed['確定複勝オッズ下'].fillna(mean_value).astype(float)\n",
    "\n",
    "df_sed['10時単勝オッズ'] = pd.to_numeric(df_sed['10時単勝オッズ'], errors='coerce')\n",
    "mean_value = df_sed['10時単勝オッズ'].mean()\n",
    "df_sed['10時単勝オッズ'] = df_sed['10時単勝オッズ'].fillna(mean_value).astype(float)\n",
    "\n",
    "df_sed['10時複勝オッズ'] = pd.to_numeric(df_sed['10時複勝オッズ'], errors='coerce')\n",
    "mean_value = df_sed['10時複勝オッズ'].mean()\n",
    "df_sed['10時複勝オッズ'] = df_sed['10時複勝オッズ'].fillna(mean_value).astype(float)\n",
    "\n",
    "df_sed['馬体重'] = pd.to_numeric(df_sed['馬体重'], errors='coerce')\n",
    "mean_value = df_sed['馬体重'].mean()\n",
    "df_sed['馬体重'] = df_sed['馬体重'].fillna(mean_value).astype(float)\n",
    "\n",
    "df_sed['馬体重増減'] = pd.to_numeric(df_sed['馬体重増減'], errors='coerce')\n",
    "mean_value = df_sed['馬体重増減'].mean()\n",
    "df_sed['馬体重増減'] = df_sed['馬体重増減'].fillna(mean_value).astype(float)\n",
    "\n",
    "df_sed['天候コード'] = df_sed['天候コード'].astype('category')\n",
    "\n",
    "df_sed['コース'] = df_sed['コース'].astype('category')\n",
    "\n",
    "df_sed['レース脚質'] = df_sed['レース脚質'].astype('category')\n",
    "\n",
    "df_sed['払戻データ_単勝'] = pd.to_numeric(df_sed['払戻データ_単勝'], errors='coerce')\n",
    "df_sed['払戻データ_単勝'] = df_sed['払戻データ_単勝'].fillna(0).astype(int)\n",
    "\n",
    "df_sed['払戻データ_複勝'] = pd.to_numeric(df_sed['払戻データ_複勝'], errors='coerce')\n",
    "df_sed['払戻データ_複勝'] = df_sed['払戻データ_複勝'].fillna(0).astype(int)\n",
    "\n",
    "df_sed['本賞金'] = pd.to_numeric(df_sed['本賞金'], errors='coerce')\n",
    "df_sed['本賞金'] = df_sed['本賞金'].fillna(0).astype(int)\n",
    "\n",
    "df_sed['収得賞金'] = pd.to_numeric(df_sed['収得賞金'], errors='coerce')\n",
    "df_sed['収得賞金'] = df_sed['収得賞金'].fillna(0).astype(int)\n",
    "\n",
    "df_sed['レースペース流れ'] = df_sed['レースペース流れ'].astype('category')\n",
    "df_sed['馬ペース流れ'] = df_sed['馬ペース流れ'].astype('category')\n",
    "\n",
    "df_sed['４角コース取り'] = df_sed['４角コース取り'].astype('category')"
   ]
  },
  {
   "cell_type": "markdown",
   "id": "943d815c-f151-44a9-b3a5-a698785e05de",
   "metadata": {},
   "source": [
    "## 03.4. 加工後のデータを確認する"
   ]
  },
  {
   "cell_type": "markdown",
   "id": "4cbef46b-b671-492d-992e-8cca6a095962",
   "metadata": {},
   "source": [
    "データが意図した通りに加工されているか確認します"
   ]
  },
  {
   "cell_type": "code",
   "execution_count": null,
   "id": "eb44aeca-97df-4eca-bee0-25607a0a045d",
   "metadata": {},
   "outputs": [],
   "source": [
    "# 先頭の数行を表示\n",
    "df_sed.head()"
   ]
  },
  {
   "cell_type": "code",
   "execution_count": null,
   "id": "5375c273-7e4f-4d0e-a4a0-e5d289e3815e",
   "metadata": {},
   "outputs": [],
   "source": [
    "# 分析結果を表示する\n",
    "df_sed_analyzed_after = make_analysis_df(df_sed)\n",
    "df_sed_analyzed_after"
   ]
  },
  {
   "cell_type": "markdown",
   "id": "583046de-2b20-4ca9-9f94-304fd38cddc2",
   "metadata": {},
   "source": [
    "## 03.5. データを保存する"
   ]
  },
  {
   "cell_type": "markdown",
   "id": "c46dee99-234e-4ce1-b661-13ef9f3248ec",
   "metadata": {},
   "source": [
    "加工したデータを保存します"
   ]
  },
  {
   "cell_type": "code",
   "execution_count": null,
   "id": "84c6ce28-550c-4c70-af52-c89bbec0b4e2",
   "metadata": {},
   "outputs": [],
   "source": [
    "# ファイルをpickle形式で保存する\n",
    "def save_dataframe_to_pickle(dataframe, folder_path, file_name):\n",
    "    \n",
    "    print(\"前処理したデータをファイルに保存します\")\n",
    "\n",
    "    # フォルダが存在しない場合は作成\n",
    "    if not os.path.exists(folder_path):\n",
    "        os.makedirs(folder_path)\n",
    "\n",
    "    # ファイルのフルパスを構築\n",
    "    file_path = os.path.join(folder_path, file_name + \".pkl\")\n",
    "\n",
    "    # DataFrame を pickle 形式で保存\n",
    "    with open(file_path, 'wb') as file:\n",
    "        pickle.dump(dataframe, file)\n",
    "\n",
    "    print(\"保存しました\")"
   ]
  },
  {
   "cell_type": "code",
   "execution_count": null,
   "id": "6ade2eeb-c8cf-496d-8eb4-c5d7d029229c",
   "metadata": {},
   "outputs": [],
   "source": [
    "dataframe = df_sed\n",
    "folder_path = \"data/03_preprocessed_data\"\n",
    "file_name = \"df_sed\"\n",
    "save_dataframe_to_pickle(dataframe, folder_path, file_name)"
   ]
  },
  {
   "cell_type": "code",
   "execution_count": null,
   "id": "cc135f24-00d2-4388-aa94-8d50db18d56d",
   "metadata": {},
   "outputs": [],
   "source": []
  }
 ],
 "metadata": {
  "kernelspec": {
   "display_name": "Python 3 (ipykernel)",
   "language": "python",
   "name": "python3"
  },
  "language_info": {
   "codemirror_mode": {
    "name": "ipython",
    "version": 3
   },
   "file_extension": ".py",
   "mimetype": "text/x-python",
   "name": "python",
   "nbconvert_exporter": "python",
   "pygments_lexer": "ipython3",
   "version": "3.12.0"
  }
 },
 "nbformat": 4,
 "nbformat_minor": 5
}
