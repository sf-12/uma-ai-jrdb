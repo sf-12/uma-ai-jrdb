{
 "cells": [
  {
   "cell_type": "markdown",
   "id": "fc98b352-c6dc-4150-8200-7c3ca0c8a988",
   "metadata": {},
   "source": [
    "# 03. kyiデータの前処理"
   ]
  },
  {
   "cell_type": "markdown",
   "id": "db41b13d-be96-4a4e-90ad-b391ee1c68a7",
   "metadata": {},
   "source": [
    "【このノートで実施すること】</br>\n",
    "　機械学習に使用するため、テーブルデータの中身を精査し、データ型を変更したり、欠損している値を補完したりします。</br>\n",
    "　このノートではkyiデータについて処理します。</br>\n",
    "</br>\n",
    "【入力】</br>\n",
    "　・data/02_format_data/df_kyi.plk</br>\n",
    "</br>\n",
    "【出力】</br>\n",
    "　・data/03_preprocessed_data/df_kyi.pkl</br>\n",
    "</br>"
   ]
  },
  {
   "cell_type": "markdown",
   "id": "a3a0138c-019c-4af1-9a9e-1fd0c2a2151b",
   "metadata": {},
   "source": [
    "## 03.1. 準備"
   ]
  },
  {
   "cell_type": "markdown",
   "id": "cdd0f5d8-d608-497f-bde8-1ed166b7e327",
   "metadata": {},
   "source": [
    "必要なモジュールをインポートしたり、データを分析するメソッドを用意したり、データを読み込んだりしています。"
   ]
  },
  {
   "cell_type": "code",
   "execution_count": null,
   "id": "8e6b88e9-2127-4422-baa4-02d63dc252f5",
   "metadata": {},
   "outputs": [],
   "source": [
    "# 必要なモジュールをインポート\n",
    "import pandas as pd\n",
    "import pickle\n",
    "import os"
   ]
  },
  {
   "cell_type": "code",
   "execution_count": null,
   "id": "1a1c476f-2ef1-49a5-ba1c-3ec0a009d9ee",
   "metadata": {},
   "outputs": [],
   "source": [
    "# データの分析結果を出すメソッドを用意\n",
    "def make_analysis_df(df):\n",
    "\n",
    "    # 分析用の情報を取得\n",
    "    num_non_empty = df.count()\n",
    "    num_empty = df.isna().sum()\n",
    "    empty_percentage = (num_empty / len(df)) * 100\n",
    "    data_types = df.dtypes\n",
    "    unique_counts = df.nunique()\n",
    "    \n",
    "    # 新しいDataFrameを作成\n",
    "    analysis_df = pd.DataFrame({\n",
    "        'カラム名': df.columns,\n",
    "        '空でないデータ数': num_non_empty.values,\n",
    "        '空白データ数': num_empty.values,\n",
    "        '空白率（％）': empty_percentage.values,\n",
    "        'データ型': data_types.values,\n",
    "        'ユニークな値の数': unique_counts.values\n",
    "    })\n",
    "    return analysis_df"
   ]
  },
  {
   "cell_type": "code",
   "execution_count": null,
   "id": "68f70216-3332-41b6-985d-9ad4ee04c076",
   "metadata": {},
   "outputs": [],
   "source": [
    "# 全カラム、全レコードを表示するように設定\n",
    "pd.set_option('display.max_columns', None)\n",
    "pd.set_option('display.max_rows', None)"
   ]
  },
  {
   "cell_type": "code",
   "execution_count": null,
   "id": "d8985592-580d-421c-b05b-db08fea22bd6",
   "metadata": {},
   "outputs": [],
   "source": [
    "# データを読み込む\n",
    "with open('data/02_format_data/df_kyi.pkl', 'rb') as file:\n",
    "    df_kyi = pickle.load(file)"
   ]
  },
  {
   "cell_type": "markdown",
   "id": "efa092ef-8387-4cb5-85a4-2b9960bded8e",
   "metadata": {},
   "source": [
    "## 03.2. データを確認する"
   ]
  },
  {
   "cell_type": "markdown",
   "id": "c3ba2aa7-87ea-4541-8ad1-794be576cf71",
   "metadata": {},
   "source": [
    "データの中身を確認します"
   ]
  },
  {
   "cell_type": "code",
   "execution_count": null,
   "id": "998e3d8d-215f-4b78-a899-bb1a03d53709",
   "metadata": {},
   "outputs": [],
   "source": [
    "# 先頭の数行を表示\n",
    "df_kyi.head()"
   ]
  },
  {
   "cell_type": "code",
   "execution_count": null,
   "id": "c2ca2674-5bc1-41ff-bfb9-3f16c264812c",
   "metadata": {},
   "outputs": [],
   "source": [
    "# 分析結果を表示する\n",
    "df_kyi_analyzed_before = make_analysis_df(df_kyi)\n",
    "df_kyi_analyzed_before"
   ]
  },
  {
   "cell_type": "markdown",
   "id": "4a0616f0-8a54-4bbf-9e9c-9dd78e9e681b",
   "metadata": {},
   "source": [
    "## 03.3. 前処理"
   ]
  },
  {
   "cell_type": "markdown",
   "id": "485bc54d-714f-43a8-b082-264745414808",
   "metadata": {},
   "source": [
    "必要に応じてデータを加工します。<br>\n",
    "各項目の意味についてはJRDBの仕様書を参照ください。<br>\n",
    "<br>\n",
    "引用：<br>\n",
    "　競走馬データ仕様　第11版：http://www.jrdb.com/program/Kyi/kyi_doc.txt<br>\n",
    "　競走馬データ仕様書内容の説明：http://www.jrdb.com/program/Kyi/ky_siyo_doc.txt<br>\n",
    "　ＪＲＤＢデータコード表：http://www.jrdb.com/program/jrdb_code.txt<br>"
   ]
  },
  {
   "cell_type": "code",
   "execution_count": null,
   "id": "97fdb483-7fd3-4806-b904-048e65ca6184",
   "metadata": {},
   "outputs": [],
   "source": [
    "df_kyi['馬番'] = pd.to_numeric(df_kyi['馬番'], errors='coerce')\n",
    "df_kyi['馬番'] = df_kyi['馬番'].astype(int)\n",
    "\n",
    "df_kyi['IDM'] = pd.to_numeric(df_kyi['IDM'], errors='coerce')\n",
    "df_kyi['IDM'] = df_kyi['IDM'].astype(float)\n",
    "\n",
    "df_kyi['騎手指数'] = pd.to_numeric(df_kyi['騎手指数'], errors='coerce')\n",
    "df_kyi['騎手指数'] = df_kyi['騎手指数'].astype(float)\n",
    "\n",
    "df_kyi['情報指数'] = pd.to_numeric(df_kyi['情報指数'], errors='coerce')\n",
    "df_kyi['情報指数'] = df_kyi['情報指数'].astype(float)\n",
    "\n",
    "df_kyi['総合指数'] = pd.to_numeric(df_kyi['総合指数'], errors='coerce')\n",
    "df_kyi['総合指数'] = df_kyi['総合指数'].astype(float)\n",
    "\n",
    "df_kyi['脚質'] = df_kyi['脚質'].astype('category')\n",
    "\n",
    "df_kyi['距離適性'] = df_kyi['距離適性'].astype('category')\n",
    "\n",
    "df_kyi['上昇度'] = df_kyi['上昇度'].astype('category')\n",
    "\n",
    "df_kyi['ローテーション'] = pd.to_numeric(df_kyi['ローテーション'], errors='coerce')\n",
    "df_kyi['ローテーション'] = df_kyi['ローテーション'].fillna(0).astype(int)\n",
    "\n",
    "df_kyi['基準オッズ'] = pd.to_numeric(df_kyi['基準オッズ'], errors='coerce')\n",
    "df_kyi['基準オッズ'] = df_kyi['基準オッズ'].astype(float)\n",
    "\n",
    "df_kyi['基準人気順位'] = pd.to_numeric(df_kyi['基準人気順位'], errors='coerce')\n",
    "df_kyi['基準人気順位'] = df_kyi['基準人気順位'].astype(int)\n",
    "\n",
    "df_kyi['基準複勝オッズ'] = pd.to_numeric(df_kyi['基準複勝オッズ'], errors='coerce')\n",
    "df_kyi['基準複勝オッズ'] = df_kyi['基準複勝オッズ'].astype(float)\n",
    "\n",
    "df_kyi['基準複勝人気順位'] = pd.to_numeric(df_kyi['基準複勝人気順位'], errors='coerce')\n",
    "df_kyi['基準複勝人気順位'] = df_kyi['基準複勝人気順位'].astype(int)\n",
    "\n",
    "df_kyi['特定情報◎'] = pd.to_numeric(df_kyi['特定情報◎'], errors='coerce')\n",
    "df_kyi['特定情報◎'] = df_kyi['特定情報◎'].fillna(0).astype(int)\n",
    "\n",
    "df_kyi['特定情報○'] = pd.to_numeric(df_kyi['特定情報○'], errors='coerce')\n",
    "df_kyi['特定情報○'] = df_kyi['特定情報○'].fillna(0).astype(int)\n",
    "\n",
    "df_kyi['特定情報▲'] = pd.to_numeric(df_kyi['特定情報▲'], errors='coerce')\n",
    "df_kyi['特定情報▲'] = df_kyi['特定情報▲'].fillna(0).astype(int)\n",
    "\n",
    "df_kyi['特定情報△'] = pd.to_numeric(df_kyi['特定情報△'], errors='coerce')\n",
    "df_kyi['特定情報△'] = df_kyi['特定情報△'].fillna(0).astype(int)\n",
    "\n",
    "df_kyi['特定情報×'] = pd.to_numeric(df_kyi['特定情報×'], errors='coerce')\n",
    "df_kyi['特定情報×'] = df_kyi['特定情報×'].fillna(0).astype(int)\n",
    "\n",
    "df_kyi['総合情報◎'] = pd.to_numeric(df_kyi['総合情報◎'], errors='coerce')\n",
    "df_kyi['総合情報◎'] = df_kyi['総合情報◎'].fillna(0).astype(int)\n",
    "\n",
    "df_kyi['総合情報○'] = pd.to_numeric(df_kyi['総合情報○'], errors='coerce')\n",
    "df_kyi['総合情報○'] = df_kyi['総合情報○'].fillna(0).astype(int)\n",
    "\n",
    "df_kyi['総合情報▲'] = pd.to_numeric(df_kyi['総合情報▲'], errors='coerce')\n",
    "df_kyi['総合情報▲'] = df_kyi['総合情報▲'].fillna(0).astype(int)\n",
    "\n",
    "df_kyi['総合情報△'] = pd.to_numeric(df_kyi['総合情報△'], errors='coerce')\n",
    "df_kyi['総合情報△'] = df_kyi['総合情報△'].fillna(0).astype(int)\n",
    "\n",
    "df_kyi['総合情報×'] = pd.to_numeric(df_kyi['総合情報×'], errors='coerce')\n",
    "df_kyi['総合情報×'] = df_kyi['総合情報×'].fillna(0).astype(int)\n",
    "\n",
    "df_kyi['人気指数'] = pd.to_numeric(df_kyi['人気指数'], errors='coerce')\n",
    "df_kyi['人気指数'] = df_kyi['人気指数'].fillna(0).astype(int)\n",
    "\n",
    "df_kyi['調教指数'] = pd.to_numeric(df_kyi['調教指数'], errors='coerce')\n",
    "df_kyi['調教指数'] = df_kyi['調教指数'].fillna(0).astype(float)\n",
    "\n",
    "df_kyi['厩舎指数'] = pd.to_numeric(df_kyi['厩舎指数'], errors='coerce')\n",
    "df_kyi['厩舎指数'] = df_kyi['厩舎指数'].fillna(0).astype(float)\n",
    "\n",
    "df_kyi['調教矢印コード'] = df_kyi['調教矢印コード'].astype('category')\n",
    "\n",
    "df_kyi['厩舎評価コード'] = df_kyi['厩舎評価コード'].astype('category')\n",
    "\n",
    "df_kyi['騎手期待連対率'] = pd.to_numeric(df_kyi['騎手期待連対率'], errors='coerce')\n",
    "df_kyi['騎手期待連対率'] = df_kyi['騎手期待連対率'].fillna(0).astype(float)\n",
    "\n",
    "df_kyi['激走指数'] = pd.to_numeric(df_kyi['激走指数'], errors='coerce')\n",
    "df_kyi['激走指数'] = df_kyi['激走指数'].fillna(0).astype(int)\n",
    "\n",
    "df_kyi['蹄コード'] = df_kyi['蹄コード'].astype('category')\n",
    "\n",
    "df_kyi['重適正コード'] = df_kyi['重適正コード'].astype('category')\n",
    "\n",
    "df_kyi['クラスコード'] = df_kyi['クラスコード'].astype('category')\n",
    "\n",
    "df_kyi['ブリンカー'] = df_kyi['ブリンカー'].astype('category')\n",
    "\n",
    "# float型にするとともに、0.1キログラム単位からキログラム単位に変換します\n",
    "df_kyi['負担重量'] = pd.to_numeric(df_kyi['負担重量'], errors='coerce')\n",
    "df_kyi['負担重量'] = df_kyi['負担重量'].astype(float) * 0.1\n",
    "\n",
    "df_kyi['見習い区分'] = df_kyi['見習い区分'].astype('category')\n",
    "\n",
    "df_kyi['調教師所属'] = df_kyi['調教師所属'].astype('category')\n",
    "\n",
    "df_kyi['枠番'] = pd.to_numeric(df_kyi['枠番'], errors='coerce')\n",
    "df_kyi['枠番'] = df_kyi['枠番'].fillna(0).astype(int)\n",
    "\n",
    "df_kyi['印コード_総合印'] = df_kyi['印コード_総合印'].astype('category')\n",
    "df_kyi['印コード_ＩＤＭ印'] = df_kyi['印コード_ＩＤＭ印'].astype('category')\n",
    "df_kyi['印コード_情報印'] = df_kyi['印コード_情報印'].astype('category')\n",
    "df_kyi['印コード_騎手印'] = df_kyi['印コード_騎手印'].astype('category')\n",
    "df_kyi['印コード_厩舎印'] = df_kyi['印コード_厩舎印'].astype('category')\n",
    "df_kyi['印コード_調教印'] = df_kyi['印コード_調教印'].astype('category')\n",
    "\n",
    "df_kyi['印コード_激走印'] = df_kyi['印コード_激走印'].astype('category')\n",
    "\n",
    "df_kyi['芝適性コード'] = df_kyi['芝適性コード'].astype('category')\n",
    "\n",
    "df_kyi['ダ適性コード'] = df_kyi['ダ適性コード'].astype('category')\n",
    "\n",
    "df_kyi['賞金情報_獲得賞金'] = pd.to_numeric(df_kyi['賞金情報_獲得賞金'], errors='coerce')\n",
    "df_kyi['賞金情報_獲得賞金'] = df_kyi['賞金情報_獲得賞金'].fillna(0).astype(int)\n",
    "\n",
    "df_kyi['賞金情報_収得賞金'] = pd.to_numeric(df_kyi['賞金情報_収得賞金'], errors='coerce')\n",
    "df_kyi['賞金情報_収得賞金'] = df_kyi['賞金情報_収得賞金'].fillna(0).astype(int)\n",
    "\n",
    "df_kyi['賞金情報_条件クラス'] = df_kyi['賞金情報_条件クラス'].astype('category')\n",
    "\n",
    "df_kyi['性別コード'] = df_kyi['性別コード'].astype('category')\n",
    "\n",
    "df_kyi['馬主会コード'] = df_kyi['馬主会コード'].astype('category')\n",
    "\n",
    "df_kyi['馬記号コード'] = df_kyi['馬記号コード'].astype('category')\n",
    "\n",
    "df_kyi['激走順位'] = pd.to_numeric(df_kyi['激走順位'], errors='coerce')\n",
    "df_kyi['激走順位'] = df_kyi['激走順位'].fillna(99).astype(int)\n",
    "\n",
    "df_kyi['LS指数順位'] = pd.to_numeric(df_kyi['LS指数順位'], errors='coerce')\n",
    "df_kyi['LS指数順位'] = df_kyi['LS指数順位'].fillna(99).astype(int)\n",
    "\n",
    "df_kyi['輸送区分'] = df_kyi['輸送区分'].astype('category')\n",
    "\n",
    "df_kyi['万券指数'] = pd.to_numeric(df_kyi['万券指数'], errors='coerce')\n",
    "df_kyi['万券指数'] = df_kyi['万券指数'].fillna(0).astype(int)\n",
    "\n",
    "df_kyi['万券印'] = df_kyi['万券印'].astype('category')\n",
    "\n",
    "df_kyi['降級フラグ'] = df_kyi['降級フラグ'].astype('category')\n",
    "\n",
    "df_kyi['激走タイプ'] = df_kyi['激走タイプ'].astype('category')"
   ]
  },
  {
   "cell_type": "markdown",
   "id": "943d815c-f151-44a9-b3a5-a698785e05de",
   "metadata": {},
   "source": [
    "## 03.4. 加工後のデータを確認する"
   ]
  },
  {
   "cell_type": "markdown",
   "id": "0e0bdfff-a5a4-4720-9e76-e9ebb5baadcd",
   "metadata": {},
   "source": [
    "データが意図した通りに加工されているか確認します"
   ]
  },
  {
   "cell_type": "code",
   "execution_count": null,
   "id": "37de47bf-49d9-466b-81f6-14db5e93cc77",
   "metadata": {},
   "outputs": [],
   "source": [
    "# 先頭の数行を表示\n",
    "df_kyi.head()"
   ]
  },
  {
   "cell_type": "code",
   "execution_count": null,
   "id": "5375c273-7e4f-4d0e-a4a0-e5d289e3815e",
   "metadata": {},
   "outputs": [],
   "source": [
    "# 分析結果を表示する\n",
    "df_kyi_analyzed_after = make_analysis_df(df_kyi)\n",
    "df_kyi_analyzed_after"
   ]
  },
  {
   "cell_type": "markdown",
   "id": "583046de-2b20-4ca9-9f94-304fd38cddc2",
   "metadata": {},
   "source": [
    "## 03.5. データを保存する"
   ]
  },
  {
   "cell_type": "markdown",
   "id": "ee541df8-1e98-4658-b686-d5da2184602c",
   "metadata": {},
   "source": [
    "加工したデータを保存します"
   ]
  },
  {
   "cell_type": "code",
   "execution_count": null,
   "id": "84c6ce28-550c-4c70-af52-c89bbec0b4e2",
   "metadata": {},
   "outputs": [],
   "source": [
    "# ファイルをpickle形式で保存する\n",
    "def save_dataframe_to_pickle(dataframe, folder_path, file_name):\n",
    "    \n",
    "    print(\"前処理したデータをファイルに保存します\")\n",
    "\n",
    "    # フォルダが存在しない場合は作成\n",
    "    if not os.path.exists(folder_path):\n",
    "        os.makedirs(folder_path)\n",
    "\n",
    "    # ファイルのフルパスを構築\n",
    "    file_path = os.path.join(folder_path, file_name + \".pkl\")\n",
    "\n",
    "    # DataFrame を pickle 形式で保存\n",
    "    with open(file_path, 'wb') as file:\n",
    "        pickle.dump(dataframe, file)\n",
    "\n",
    "    print(\"保存しました\")"
   ]
  },
  {
   "cell_type": "code",
   "execution_count": null,
   "id": "6ade2eeb-c8cf-496d-8eb4-c5d7d029229c",
   "metadata": {},
   "outputs": [],
   "source": [
    "dataframe = df_kyi\n",
    "folder_path = \"data/03_preprocessed_data\"\n",
    "file_name = \"df_kyi\"\n",
    "save_dataframe_to_pickle(dataframe, folder_path, file_name)"
   ]
  },
  {
   "cell_type": "code",
   "execution_count": null,
   "id": "9aa3ae9f-6b17-4d2d-abe8-5ceb58cc6ce2",
   "metadata": {},
   "outputs": [],
   "source": []
  }
 ],
 "metadata": {
  "kernelspec": {
   "display_name": "Python 3 (ipykernel)",
   "language": "python",
   "name": "python3"
  },
  "language_info": {
   "codemirror_mode": {
    "name": "ipython",
    "version": 3
   },
   "file_extension": ".py",
   "mimetype": "text/x-python",
   "name": "python",
   "nbconvert_exporter": "python",
   "pygments_lexer": "ipython3",
   "version": "3.12.0"
  }
 },
 "nbformat": 4,
 "nbformat_minor": 5
}
