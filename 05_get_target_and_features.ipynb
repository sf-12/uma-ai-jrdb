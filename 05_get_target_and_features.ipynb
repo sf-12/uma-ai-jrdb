{
 "cells": [
  {
   "cell_type": "markdown",
   "id": "a13776a9-fef9-4bcc-b506-badb0f1b7e33",
   "metadata": {},
   "source": [
    "# 05. 目的変数と説明変数を抽出する"
   ]
  },
  {
   "cell_type": "markdown",
   "id": "2efc80e0-9a55-4c26-ba15-832d4529f789",
   "metadata": {},
   "source": [
    "【このノートで実施すること】</br>\n",
    "　機械学習モデルに読み込ませるための目的変数と説明変数を抽出します。</br>\n",
    "　抽出したデータは新しいファイルに保存します。</br>\n",
    "</br>\n",
    "【入力】</br>\n",
    "　・data/04_merged_data/df_merged.plk</br>\n",
    "</br>\n",
    "【出力】</br>\n",
    "　・data/05_target_and_features/columns_info.json</br>\n",
    "　・data/05_target_and_features/df_target.pkl</br>\n",
    "　・data/05_target_and_features/df_features.pkl</br>\n",
    "</br>\n",
    "　※ data/05_target_and_features/columns_info.json は各カラムを目的変数、説明変数、使用しない変数、にどうやって振り分けるかを指定するファイルです。<br>\n",
    "　　自動で生成されます。詳細は後段で説明しています。\n",
    "</br>"
   ]
  },
  {
   "cell_type": "markdown",
   "id": "234cf133-4bf5-4cb3-8ac4-62331a1fbb4b",
   "metadata": {},
   "source": [
    "## 05.1 準備"
   ]
  },
  {
   "cell_type": "markdown",
   "id": "3505dde0-08fe-4d30-a4bd-a5d5fafa82af",
   "metadata": {},
   "source": [
    "必要なモジュールをインポートしたり、データを読み込んだりしています。"
   ]
  },
  {
   "cell_type": "code",
   "execution_count": null,
   "id": "6ef01f10-e136-4631-9686-1cd98f54ca03",
   "metadata": {},
   "outputs": [],
   "source": [
    "# 必要なモジュールをインポート\n",
    "import pandas as pd\n",
    "import pickle\n",
    "import os\n",
    "import json\n",
    "from sklearn.model_selection import train_test_split"
   ]
  },
  {
   "cell_type": "code",
   "execution_count": null,
   "id": "019cf9f5-69dc-4c4c-b6c6-bfaf4b0dedaa",
   "metadata": {},
   "outputs": [],
   "source": [
    "# PickleファイルからDataFrameを読み込む\n",
    "with open('data/04_merged_data/df_merged.pkl', 'rb') as file:\n",
    "    df_merged = pickle.load(file)"
   ]
  },
  {
   "cell_type": "markdown",
   "id": "d0f51978-6dc8-4c84-ac70-f31e6bff7105",
   "metadata": {},
   "source": [
    "## 05.2 データ抽出用のJsonファイルを生成する"
   ]
  },
  {
   "cell_type": "markdown",
   "id": "594c1946-163f-4881-ae2c-cf08196dcd31",
   "metadata": {},
   "source": [
    "データの中から目的変数に使用するカラムおよび説明変数に使用するカラムを抽出したいです。<br>\n",
    "しかし、いちいち全部のカラムに対してどれが目的変数に使用するカラムで、どれが説明変数に使用するカラムで、どれが使用しないカラムで、と手作業で指定するのは結構大変です。<br>\n",
    "そのため、ある程度自動で指定するようにしました。<br>\n",
    "まず、データに含まれるカラムの一覧を作成し、Json形式で出力します。<br>\n",
    "その時に各カラムに対して以下のように”usage”という値を持たせます。<br>\n",
    "<br>\n",
    "<Strong>\"usage\"の値の意味</Strong><br>\n",
    "\"target\"：目的変数として使用<br>\n",
    "\"feature\"：説明変数として使用<br>\n",
    "\"key\"：学習に使用しないが残しておきたいカラム<br>\n",
    "null：学習に使用しない<br>\n",
    "<br>\n",
    "この\"usage\"の値を参照して抽出処理を実行します。<br>\n",
    "値はJsonファイル生成時に勝手に入るので、手動で設定する手間が省けます。<br>\n",
    "抽出処理を実行する前に、Jsonファイルを眺めて、\"usage\"の値を修正したいカラムがあったらそこだけ書き換えればOKです。<br>\n",
    "<br>\n",
    "\"usage\"の値の自動生成のルールは以下のとおりです。<br>\n",
    "<br>\n",
    "<Strong>\"usage\"の値の自動生成ルール：</Strong><br>\n",
    "引数 target_columns で指定したカラムは\"target\"が入ります。<br>\n",
    "引数 key_columns で指定したカラムは\"key\"が入ります。<br>\n",
    "型がobjectのカラムはnullが入ります。<br>\n",
    "型がそれ以外のカラムは\"feature\"が入ります。<br>\n",
    "\n",
    "※\"KYI_レースキー\"カラムは、学習には使用しませんが、残しておきたいカラムだったので\"key\"に指定しています。<br>\n",
    "残したい理由は、このカラムを使用してhjcデータを参照したいからです。<br>\n",
    "hjcデータには払戻金のデータが入っています。機械学習モデルでデータを予測した後の話になるのですが、<br>\n",
    "もし予測が的中していた時、実際にどれくらいの利益になるのか、を計算するのに使用します。<br>"
   ]
  },
  {
   "cell_type": "code",
   "execution_count": null,
   "id": "27268e63-4c91-4794-b6a9-deab4fd2141e",
   "metadata": {},
   "outputs": [],
   "source": [
    "# 学習データに含まれるカラムの一覧を作成し、Json形式で出力します。\n",
    "# 後段の処理で、生成されたJsonファイルの\"usage\"の値に応じてそのカラムを、\n",
    "# 目的変数として使用するか、説明変数として使用するか、使用しないか、を判断します。\n",
    "#\n",
    "# 〜　\"usage\"　の値の意味　〜\n",
    "# \"target\" 　　-　> 目的変数として使用\n",
    "# \"feature\" -　> 説明変数として使用\n",
    "# \"key\" 　　　　　　　　-　> 学習に使用しないが残しておきたいカラム\n",
    "# null 　　　　　　　　 -　> 学習に使用しない\n",
    "# 　\n",
    "# \"usage\"の値の生成ルール：\n",
    "# 引数 target_columns で指定したカラムは\"target\"が入ります。\n",
    "# 引数 key_columns で指定したカラムは\"key\"が入ります。\n",
    "# 型がobjectのカラムはnullが入ります。\n",
    "# 型がそれ以外のカラムは\"feature\"が入ります。\n",
    "def save_columns_details_to_json(df, json_filepath, target_columns, key_columns):\n",
    "    # ファイル名が既に存在する場合、別名で保存する\n",
    "    # → もし\"usage\"の値を修正したJsonファイルがある場合、そのファイルが上書きされてしまうのを防ぐためです。\n",
    "    counter = 1\n",
    "    base_filename = json_filepath.split('.')[0]\n",
    "    while os.path.exists(json_filepath):\n",
    "        filepath = f\"{base_filename}_{counter}.json\"\n",
    "        counter += 1\n",
    "        \n",
    "    # DataFrameのカラムの詳細をJSON形式で保存\n",
    "    columns_details = {\n",
    "        col: {\n",
    "            'dtype': str(df[col].dtype), \n",
    "            'nunique': df[col].nunique(), \n",
    "            'usage': 'target' if col in target_columns else 'key' if col in key_columns else (None if df[col].dtype == 'object' else 'feature')\n",
    "        } for col in df.columns}\n",
    "    with open(json_filepath, 'w', encoding='utf-8') as file:\n",
    "        json.dump(columns_details, file, ensure_ascii=False, indent=4)\n",
    "    print(\"カラム一覧を保存しました：\", json_filepath)"
   ]
  },
  {
   "cell_type": "code",
   "execution_count": null,
   "id": "0c559e6c-af45-4bcc-bb5f-6fe6a7fbab63",
   "metadata": {},
   "outputs": [],
   "source": [
    "target_columns = [\"SED_馬成績_着順\"]\n",
    "key_columns = [\"KYI_レースキー\"]\n",
    "save_columns_details_to_json(df_merged, 'data/05_target_and_features/columns_info.json', target_columns, key_columns)"
   ]
  },
  {
   "cell_type": "markdown",
   "id": "05e1d66d-793e-43fc-b448-5945d89286c0",
   "metadata": {},
   "source": [
    "## 05.3 目的変数と説明変数を抽出する"
   ]
  },
  {
   "cell_type": "markdown",
   "id": "4e1fae4e-7e75-4169-99f4-ecc08f8f2534",
   "metadata": {},
   "source": [
    "Jsonファイルに定義した情報に従い、目的変数と説明変数を抽出します。<br>"
   ]
  },
  {
   "cell_type": "code",
   "execution_count": null,
   "id": "e6721291-a081-42b9-8e90-0666a8e4f1e0",
   "metadata": {},
   "outputs": [],
   "source": [
    "# Jsonファイルを読み込む\n",
    "with open('data/05_target_and_features/columns_info.json', 'r', encoding='utf-8') as file:\n",
    "    columns_info = json.load(file)\n",
    "\n",
    "# Jsonファイルに設定した内容を参照し、目的変数データに振り分けるカラムと、説明変数データに振り分けるカラムをまとめる\n",
    "target_columns = [col for col, details in columns_info.items() if details['usage'] == 'target']\n",
    "feature_columns = [col for col, details in columns_info.items() if details['usage'] in ('feature', 'key')]\n",
    "\n",
    "# 元のデータから目的変数データと説明変数データを抽出\n",
    "df_target = df_merged[target_columns]\n",
    "df_features = df_merged[feature_columns]"
   ]
  },
  {
   "cell_type": "markdown",
   "id": "b818b1f8-9e6c-4547-92b3-902b2934668e",
   "metadata": {},
   "source": [
    "## 05.4 目的変数を加工する"
   ]
  },
  {
   "cell_type": "markdown",
   "id": "bec88b2b-d616-4c61-b580-1f074350bc1d",
   "metadata": {},
   "source": [
    "今回、３着以内に入るか、入らないか？を予想したいので、目的変数（SED_馬成績_着順）の値を加工します。<br>\n",
    "具体的には、３着以内の場合は1,それ以外の場合は0の値を取るカラム”3着以内”を新しく作りました。<br>\n",
    "ついでに1着の場合は1, それ以外の場合は0の値を取るカラム”１着”も作りました。<br>"
   ]
  },
  {
   "cell_type": "code",
   "execution_count": null,
   "id": "c52a28f0-5c1b-4746-8bb5-21b551c2cdd6",
   "metadata": {},
   "outputs": [],
   "source": [
    "# 1着になるかを予想する場合と、３着以内に入るかを予想する場合のそれぞれについて目的変数を用意してみる\n",
    "\n",
    "df_target = df_target.copy()\n",
    "\n",
    "# 1着に入るか否か（1着 = 1, それ以外 = 0）\n",
    "df_target.loc[:, '1着'] = (df_target['SED_馬成績_着順'] == 1).astype(int)\n",
    "\n",
    "# 3着に入るか否か（3着以内 = 1, それ以外 = 0）\n",
    "df_target.loc[:, '3着以内'] = (df_target['SED_馬成績_着順'] <= 3).astype(int)"
   ]
  },
  {
   "cell_type": "markdown",
   "id": "def18778-b61e-4e37-9a71-5f78b3347b0a",
   "metadata": {},
   "source": [
    "## 05.5 目的変数と説明変数の確認"
   ]
  },
  {
   "cell_type": "markdown",
   "id": "bc2c839d-20b1-4f80-b769-b72d07d53bd3",
   "metadata": {},
   "source": [
    "生成したデータの中身を確認します。"
   ]
  },
  {
   "cell_type": "code",
   "execution_count": null,
   "id": "36f8dfb6-2972-4bdf-b1af-7f574db71d40",
   "metadata": {},
   "outputs": [],
   "source": [
    "# 目的変数データの基本情報を確認\n",
    "df_features.info()"
   ]
  },
  {
   "cell_type": "code",
   "execution_count": null,
   "id": "e6c48508-b3e2-41cb-80d7-d617a4522b8a",
   "metadata": {},
   "outputs": [],
   "source": [
    "# 目的変数データのレコードを確認\n",
    "df_features.head()"
   ]
  },
  {
   "cell_type": "code",
   "execution_count": null,
   "id": "7b6a1883-7862-4816-878e-1f827ae11823",
   "metadata": {},
   "outputs": [],
   "source": [
    "# 説明変数データの基本情報を確認\n",
    "df_target.info()"
   ]
  },
  {
   "cell_type": "code",
   "execution_count": null,
   "id": "f3212232-7b19-4fe0-9c8c-0b56870b89b7",
   "metadata": {},
   "outputs": [],
   "source": [
    "# 説明変数データのレコードを確認\n",
    "df_target.head()"
   ]
  },
  {
   "cell_type": "markdown",
   "id": "b3fc0c96-2f75-4b8e-b601-4f0c9d57ec36",
   "metadata": {},
   "source": [
    "## 05.6. データを保存する"
   ]
  },
  {
   "cell_type": "markdown",
   "id": "ddf52804-dc22-4c7f-8b02-956eb2e618d9",
   "metadata": {},
   "source": [
    "生成したデータを保存します。"
   ]
  },
  {
   "cell_type": "code",
   "execution_count": null,
   "id": "82cea307-53f6-4053-b6d4-f86ea8069cff",
   "metadata": {},
   "outputs": [],
   "source": [
    "# ファイルをpickle形式で保存する\n",
    "def save_dataframe_to_pickle(dataframe, folder_path, file_name):\n",
    "    \n",
    "    print(\"データをファイルに保存します\")\n",
    "\n",
    "    # フォルダが存在しない場合は作成\n",
    "    if not os.path.exists(folder_path):\n",
    "        os.makedirs(folder_path)\n",
    "\n",
    "    # ファイルのフルパスを構築\n",
    "    file_path = os.path.join(folder_path, file_name + \".pkl\")\n",
    "\n",
    "    # DataFrame を pickle 形式で保存\n",
    "    with open(file_path, 'wb') as file:\n",
    "        pickle.dump(dataframe, file)\n",
    "\n",
    "    print(\"保存しました\")"
   ]
  },
  {
   "cell_type": "code",
   "execution_count": null,
   "id": "d9311985-456a-4451-81b1-661b5de5cd9d",
   "metadata": {},
   "outputs": [],
   "source": [
    "# 目的変数を保存\n",
    "dataframe = df_target\n",
    "folder_path = \"data/05_target_and_features\"\n",
    "file_name = \"df_target\"\n",
    "save_dataframe_to_pickle(dataframe, folder_path, file_name)"
   ]
  },
  {
   "cell_type": "code",
   "execution_count": null,
   "id": "6423e81e-5a8b-4150-a6e7-6fa949aa05ad",
   "metadata": {},
   "outputs": [],
   "source": [
    "# 説明変数を保存\n",
    "dataframe = df_features\n",
    "folder_path = \"data/05_target_and_features\"\n",
    "file_name = \"df_features\"\n",
    "save_dataframe_to_pickle(dataframe, folder_path, file_name)"
   ]
  },
  {
   "cell_type": "code",
   "execution_count": null,
   "id": "ef45e9a6-0656-45e5-b716-66d0c71fa159",
   "metadata": {},
   "outputs": [],
   "source": []
  }
 ],
 "metadata": {
  "kernelspec": {
   "display_name": "Python 3 (ipykernel)",
   "language": "python",
   "name": "python3"
  },
  "language_info": {
   "codemirror_mode": {
    "name": "ipython",
    "version": 3
   },
   "file_extension": ".py",
   "mimetype": "text/x-python",
   "name": "python",
   "nbconvert_exporter": "python",
   "pygments_lexer": "ipython3",
   "version": "3.12.0"
  }
 },
 "nbformat": 4,
 "nbformat_minor": 5
}
