{
 "cells": [
  {
   "cell_type": "markdown",
   "id": "fc98b352-c6dc-4150-8200-7c3ca0c8a988",
   "metadata": {},
   "source": [
    "# 03. hjcデータの前処理"
   ]
  },
  {
   "cell_type": "markdown",
   "id": "b3faa593-d18b-4a30-8a5f-37bc8b4a07a3",
   "metadata": {},
   "source": [
    "【このノートで実施すること】</br>\n",
    "　機械学習に使用するため、テーブルデータの中身を精査し、データ型を変更したり、欠損している値を補完したりします。</br>\n",
    "　このノートではhjcデータについて処理します。</br>\n",
    "</br>\n",
    "【入力】</br>\n",
    "　・data/02_format_data/df_hjc.plk</br>\n",
    "</br>\n",
    "【出力】</br>\n",
    "　・data/03_preprocessed_data/df_hjc.pkl</br>\n",
    "</br>"
   ]
  },
  {
   "cell_type": "markdown",
   "id": "8f844ef3-ed1b-41cc-b2e8-b170eb1e0d50",
   "metadata": {},
   "source": [
    "## 03.1. 準備"
   ]
  },
  {
   "cell_type": "markdown",
   "id": "fbde92ce-eac9-4abe-9353-0d6e5d3318fb",
   "metadata": {},
   "source": [
    "必要なモジュールをインポートしたり、データを分析するメソッドを用意したり、データを読み込んだりしています。"
   ]
  },
  {
   "cell_type": "code",
   "execution_count": null,
   "id": "8e6b88e9-2127-4422-baa4-02d63dc252f5",
   "metadata": {},
   "outputs": [],
   "source": [
    "# 必要なモジュールをインポート\n",
    "import pandas as pd\n",
    "import pickle\n",
    "import os"
   ]
  },
  {
   "cell_type": "code",
   "execution_count": null,
   "id": "0c4c3380-3e4a-4f23-85f5-f362a7e64f18",
   "metadata": {},
   "outputs": [],
   "source": [
    "# データの分析結果を出すメソッドを用意\n",
    "def make_analysis_df(df):\n",
    "\n",
    "    # 分析用の情報を取得\n",
    "    num_non_empty = df.count()\n",
    "    num_empty = df.isna().sum()\n",
    "    empty_percentage = (num_empty / len(df)) * 100\n",
    "    data_types = df.dtypes\n",
    "    unique_counts = df.nunique()\n",
    "    \n",
    "    # 新しいDataFrameを作成\n",
    "    analysis_df = pd.DataFrame({\n",
    "        'カラム名': df.columns,\n",
    "        '空でないデータ数': num_non_empty.values,\n",
    "        '空白データ数': num_empty.values,\n",
    "        '空白率（％）': empty_percentage.values,\n",
    "        'データ型': data_types.values,\n",
    "        'ユニークな値の数': unique_counts.values\n",
    "    })\n",
    "    return analysis_df"
   ]
  },
  {
   "cell_type": "code",
   "execution_count": null,
   "id": "68f70216-3332-41b6-985d-9ad4ee04c076",
   "metadata": {},
   "outputs": [],
   "source": [
    "# 全カラム、全レコードを表示するように設定\n",
    "pd.set_option('display.max_columns', None)\n",
    "pd.set_option('display.max_rows', None)"
   ]
  },
  {
   "cell_type": "code",
   "execution_count": null,
   "id": "d8985592-580d-421c-b05b-db08fea22bd6",
   "metadata": {},
   "outputs": [],
   "source": [
    "# データを読み込む\n",
    "with open('data/02_format_data/df_hjc.pkl', 'rb') as file:\n",
    "    df_hjc = pickle.load(file)"
   ]
  },
  {
   "cell_type": "markdown",
   "id": "6970074c-2b39-4344-a4e8-fe04ffeaa16a",
   "metadata": {},
   "source": [
    "## 03.2. データを確認する"
   ]
  },
  {
   "cell_type": "markdown",
   "id": "5c253d33-57fc-4e89-a648-f6508116d627",
   "metadata": {},
   "source": [
    "データの中身を確認します"
   ]
  },
  {
   "cell_type": "code",
   "execution_count": null,
   "id": "998e3d8d-215f-4b78-a899-bb1a03d53709",
   "metadata": {},
   "outputs": [],
   "source": [
    "# 先頭の数行を表示\n",
    "df_hjc.head()"
   ]
  },
  {
   "cell_type": "code",
   "execution_count": null,
   "id": "f6f9eded-696f-4124-bbd8-9d8cdf7089cc",
   "metadata": {},
   "outputs": [],
   "source": [
    "# 分析結果を表示する\n",
    "df_hjc_analyzed_before = make_analysis_df(df_hjc)\n",
    "df_hjc_analyzed_before"
   ]
  },
  {
   "cell_type": "markdown",
   "id": "4a0616f0-8a54-4bbf-9e9c-9dd78e9e681b",
   "metadata": {},
   "source": [
    "## 03.3. 前処理"
   ]
  },
  {
   "cell_type": "markdown",
   "id": "175a5b9c-0128-4300-a05e-6c303c760f69",
   "metadata": {},
   "source": [
    "必要に応じてデータを加工します。<br>\n",
    "各項目の意味についてはJRDBの仕様書を参照ください。<br>\n",
    "<br>\n",
    "引用：<br>\n",
    "　払戻情報データ仕様　第4版：http://www.jrdb.com/program/Hjc/hjcdata_doc.txt<br>"
   ]
  },
  {
   "cell_type": "code",
   "execution_count": null,
   "id": "97fdb483-7fd3-4806-b904-048e65ca6184",
   "metadata": {},
   "outputs": [],
   "source": [
    "df_hjc['単勝払戻1_馬番'] = pd.to_numeric(df_hjc['単勝払戻1_馬番'], errors='coerce')\n",
    "df_hjc['単勝払戻1_馬番'] = df_hjc['単勝払戻1_馬番'].fillna(0).astype(int)\n",
    "\n",
    "df_hjc['単勝払戻1_払戻金'] = pd.to_numeric(df_hjc['単勝払戻1_払戻金'], errors='coerce')\n",
    "df_hjc['単勝払戻1_払戻金'] = df_hjc['単勝払戻1_払戻金'].fillna(0).astype(int)\n",
    "\n",
    "df_hjc['単勝払戻2_馬番'] = pd.to_numeric(df_hjc['単勝払戻2_馬番'], errors='coerce')\n",
    "df_hjc['単勝払戻2_馬番'] = df_hjc['単勝払戻2_馬番'].fillna(0).astype(int)\n",
    "\n",
    "df_hjc['単勝払戻2_払戻金'] = pd.to_numeric(df_hjc['単勝払戻2_払戻金'], errors='coerce')\n",
    "df_hjc['単勝払戻2_払戻金'] = df_hjc['単勝払戻2_払戻金'].fillna(0).astype(int)\n",
    "\n",
    "df_hjc['単勝払戻3_馬番'] = pd.to_numeric(df_hjc['単勝払戻3_馬番'], errors='coerce')\n",
    "df_hjc['単勝払戻3_馬番'] = df_hjc['単勝払戻3_馬番'].fillna(0).astype(int)\n",
    "\n",
    "df_hjc['単勝払戻3_払戻金'] = pd.to_numeric(df_hjc['単勝払戻3_払戻金'], errors='coerce')\n",
    "df_hjc['単勝払戻3_払戻金'] = df_hjc['単勝払戻3_払戻金'].fillna(0).astype(int)\n",
    "\n",
    "df_hjc['複勝払戻1_馬番'] = pd.to_numeric(df_hjc['複勝払戻1_馬番'], errors='coerce')\n",
    "df_hjc['複勝払戻1_馬番'] = df_hjc['複勝払戻1_馬番'].fillna(0).astype(int)\n",
    "\n",
    "df_hjc['複勝払戻1_払戻金'] = pd.to_numeric(df_hjc['複勝払戻1_払戻金'], errors='coerce')\n",
    "df_hjc['複勝払戻1_払戻金'] = df_hjc['複勝払戻1_払戻金'].fillna(0).astype(int)\n",
    "\n",
    "df_hjc['複勝払戻2_馬番'] = pd.to_numeric(df_hjc['複勝払戻2_馬番'], errors='coerce')\n",
    "df_hjc['複勝払戻2_馬番'] = df_hjc['複勝払戻2_馬番'].fillna(0).astype(int)\n",
    "\n",
    "df_hjc['複勝払戻2_払戻金'] = pd.to_numeric(df_hjc['複勝払戻2_払戻金'], errors='coerce')\n",
    "df_hjc['複勝払戻2_払戻金'] = df_hjc['複勝払戻2_払戻金'].fillna(0).astype(int)\n",
    "\n",
    "df_hjc['複勝払戻3_馬番'] = pd.to_numeric(df_hjc['複勝払戻3_馬番'], errors='coerce')\n",
    "df_hjc['複勝払戻3_馬番'] = df_hjc['複勝払戻3_馬番'].fillna(0).astype(int)\n",
    "\n",
    "df_hjc['複勝払戻3_払戻金'] = pd.to_numeric(df_hjc['複勝払戻3_払戻金'], errors='coerce')\n",
    "df_hjc['複勝払戻3_払戻金'] = df_hjc['複勝払戻3_払戻金'].fillna(0).astype(int)\n",
    "\n",
    "df_hjc['複勝払戻4_馬番'] = pd.to_numeric(df_hjc['複勝払戻4_馬番'], errors='coerce')\n",
    "df_hjc['複勝払戻4_馬番'] = df_hjc['複勝払戻4_馬番'].fillna(0).astype(int)\n",
    "\n",
    "df_hjc['複勝払戻4_払戻金'] = pd.to_numeric(df_hjc['複勝払戻4_払戻金'], errors='coerce')\n",
    "df_hjc['複勝払戻4_払戻金'] = df_hjc['複勝払戻4_払戻金'].fillna(0).astype(int)\n",
    "\n",
    "df_hjc['複勝払戻5_馬番'] = pd.to_numeric(df_hjc['複勝払戻5_馬番'], errors='coerce')\n",
    "df_hjc['複勝払戻5_馬番'] = df_hjc['複勝払戻5_馬番'].fillna(0).astype(int)\n",
    "\n",
    "df_hjc['複勝払戻5_払戻金'] = pd.to_numeric(df_hjc['複勝払戻5_払戻金'], errors='coerce')\n",
    "df_hjc['複勝払戻5_払戻金'] = df_hjc['複勝払戻5_払戻金'].fillna(0).astype(int)"
   ]
  },
  {
   "cell_type": "markdown",
   "id": "b16950d0-aef8-4512-9f8e-3773314ac3fc",
   "metadata": {},
   "source": [
    "## 03.4. 加工後のデータを確認する"
   ]
  },
  {
   "cell_type": "markdown",
   "id": "798a954f-2258-46c7-8e7e-eadf6c3a1155",
   "metadata": {},
   "source": [
    "データが意図した通りに加工されているか確認します"
   ]
  },
  {
   "cell_type": "code",
   "execution_count": null,
   "id": "9fbad48f-ed10-491d-a63f-2d4202df7c92",
   "metadata": {},
   "outputs": [],
   "source": [
    "# 先頭の数行を表示\n",
    "df_hjc.head()"
   ]
  },
  {
   "cell_type": "code",
   "execution_count": null,
   "id": "5375c273-7e4f-4d0e-a4a0-e5d289e3815e",
   "metadata": {},
   "outputs": [],
   "source": [
    "# 分析結果を表示する\n",
    "df_hjc_analyzed_after = make_analysis_df(df_hjc)\n",
    "df_hjc_analyzed_after"
   ]
  },
  {
   "cell_type": "markdown",
   "id": "583046de-2b20-4ca9-9f94-304fd38cddc2",
   "metadata": {},
   "source": [
    "## 03.5. データを保存する"
   ]
  },
  {
   "cell_type": "markdown",
   "id": "159fc84b-a685-4ffe-9b51-82148761f0c4",
   "metadata": {},
   "source": [
    "加工したデータを保存します"
   ]
  },
  {
   "cell_type": "code",
   "execution_count": null,
   "id": "84c6ce28-550c-4c70-af52-c89bbec0b4e2",
   "metadata": {},
   "outputs": [],
   "source": [
    "# ファイルをpickle形式で保存する\n",
    "def save_dataframe_to_pickle(dataframe, folder_path, file_name):\n",
    "    \n",
    "    print(\"前処理したデータをファイルに保存します\")\n",
    "\n",
    "    # フォルダが存在しない場合は作成\n",
    "    if not os.path.exists(folder_path):\n",
    "        os.makedirs(folder_path)\n",
    "\n",
    "    # ファイルのフルパスを構築\n",
    "    file_path = os.path.join(folder_path, file_name + \".pkl\")\n",
    "\n",
    "    # DataFrame を pickle 形式で保存\n",
    "    with open(file_path, 'wb') as file:\n",
    "        pickle.dump(dataframe, file)\n",
    "\n",
    "    print(\"保存しました\")"
   ]
  },
  {
   "cell_type": "code",
   "execution_count": null,
   "id": "6ade2eeb-c8cf-496d-8eb4-c5d7d029229c",
   "metadata": {},
   "outputs": [],
   "source": [
    "dataframe = df_hjc\n",
    "folder_path = \"data/03_preprocessed_data\"\n",
    "file_name = \"df_hjc\"\n",
    "save_dataframe_to_pickle(dataframe, folder_path, file_name)"
   ]
  },
  {
   "cell_type": "code",
   "execution_count": null,
   "id": "39f4afdf-270f-4215-8102-5a8278792cd8",
   "metadata": {},
   "outputs": [],
   "source": []
  }
 ],
 "metadata": {
  "kernelspec": {
   "display_name": "Python 3 (ipykernel)",
   "language": "python",
   "name": "python3"
  },
  "language_info": {
   "codemirror_mode": {
    "name": "ipython",
    "version": 3
   },
   "file_extension": ".py",
   "mimetype": "text/x-python",
   "name": "python",
   "nbconvert_exporter": "python",
   "pygments_lexer": "ipython3",
   "version": "3.12.0"
  }
 },
 "nbformat": 4,
 "nbformat_minor": 5
}
