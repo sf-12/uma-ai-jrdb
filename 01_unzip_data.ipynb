{
 "cells": [
  {
   "cell_type": "markdown",
   "id": "021b292e-a401-4c1c-9401-f2d8806d67e6",
   "metadata": {},
   "source": [
    "# 01. データを解凍する"
   ]
  },
  {
   "cell_type": "markdown",
   "id": "f3caed96-cb69-4897-a042-a189c29208ff",
   "metadata": {},
   "source": [
    "【このノートで実施すること】</br>\n",
    "　zipで圧縮されているデータを解凍します。</br>\n",
    "</br>\n",
    "【入力】</br>\n",
    "　・data/00_zip_data/hjc 内の各zipファイル</br>\n",
    "　・data/00_zip_data/kyi 内の各zipファイル</br>\n",
    "　・data/00_zip_data/sed 内の各zipファイル</br>\n",
    " </br>\n",
    "　※あらかじめzipファイルを格納しておく必要があります</br>\n",
    "</br>\n",
    "【出力】</br>\n",
    "　・解凍後のテキストファイル</br>\n",
    " </br>\n",
    "　data/01_unzip_data　内にhjc, kyi, sed の各フォルダが生成され、それぞれに解凍後のファイルが格納されます</br>"
   ]
  },
  {
   "cell_type": "code",
   "execution_count": null,
   "id": "e1d419e1-0fbc-4b38-88ff-c3b16c222d95",
   "metadata": {},
   "outputs": [],
   "source": [
    "# 必要なモジュールをインポート\n",
    "import zipfile\n",
    "import os\n",
    "import shutil"
   ]
  },
  {
   "cell_type": "code",
   "execution_count": null,
   "id": "e2be81fe-3cf3-46a7-a53e-46e66e81b1f3",
   "metadata": {},
   "outputs": [],
   "source": [
    "# cp932エンコードのファイル名をデコードする関数\n",
    "def decode_cp932(file_name_bytes):\n",
    "    try:\n",
    "        return file_name_bytes.decode('cp932')\n",
    "    except UnicodeDecodeError:\n",
    "        return file_name_bytes.decode('cp932', 'ignore')\n",
    "\n",
    "# 解凍用メソッド\n",
    "def unzip_files(zip_folder, output_folder):\n",
    "    # フォルダが存在しない場合は作成\n",
    "    if not os.path.exists(output_folder):\n",
    "        os.makedirs(output_folder)\n",
    "\n",
    "    # zipフォルダ内のzipファイルを１つずつ処理\n",
    "    for zip_file in os.listdir(zip_folder):\n",
    "        if zip_file.endswith(\".zip\"):\n",
    "            # zipファイルのパスを作成します\n",
    "            zip_file_path = os.path.join(zip_folder, zip_file)\n",
    "\n",
    "            # 解凍先のファイル名を作成します\n",
    "            unzip_file_name = os.path.splitext(zip_file)[0]\n",
    "\n",
    "            # 解凍先のファイルのパスを作成します\n",
    "            unzip_file_path = os.path.join(output_folder, unzip_file_name)\n",
    "\n",
    "            # 解凍先のフォルダを作成します\n",
    "            os.makedirs(unzip_file_path, exist_ok=True)\n",
    "\n",
    "            # zipファイルを解凍します\n",
    "            with zipfile.ZipFile(zip_file_path, 'r') as zip_ref:\n",
    "                for file_info in zip_ref.infolist():\n",
    "                    # ファイル名をcp932エンコードからデコードします\n",
    "                    file_name = decode_cp932(file_info.filename.encode('cp437'))\n",
    "                    dest_path = os.path.join(unzip_file_path, file_name)\n",
    "                    # 解凍先のフォルダにコピーします\n",
    "                    with zip_ref.open(file_info.filename) as source, open(dest_path, 'wb') as dest:\n",
    "                        shutil.copyfileobj(source, dest)"
   ]
  },
  {
   "cell_type": "code",
   "execution_count": null,
   "id": "7061d9b1-6d5e-4920-8436-59cb071c2bde",
   "metadata": {},
   "outputs": [],
   "source": [
    "# hjcデータを解凍\n",
    "zip_folder = \"data/00_zip_data/hjc\"\n",
    "output_folder = \"data/01_unzip_data/hjc\"\n",
    "unzip_files(zip_folder, output_folder)"
   ]
  },
  {
   "cell_type": "code",
   "execution_count": null,
   "id": "ca6e3182-f68e-4bd7-9ddf-0bfc116de6c1",
   "metadata": {},
   "outputs": [],
   "source": [
    "# kyiファイルを解凍\n",
    "zip_folder = \"data/00_zip_data/kyi\"\n",
    "output_folder = \"data/01_unzip_data/kyi\"\n",
    "unzip_files(zip_folder, output_folder)"
   ]
  },
  {
   "cell_type": "code",
   "execution_count": null,
   "id": "ec1cecf9-3db8-4fdf-b853-d041855cca75",
   "metadata": {},
   "outputs": [],
   "source": [
    "# sedファイルを解凍\n",
    "zip_folder = \"data/00_zip_data/sed\"\n",
    "output_folder = \"data/01_unzip_data/sed\"\n",
    "unzip_files(zip_folder, output_folder)"
   ]
  },
  {
   "cell_type": "code",
   "execution_count": null,
   "id": "550b9779-ab62-475b-9c86-ab9f6fe51ada",
   "metadata": {},
   "outputs": [],
   "source": []
  }
 ],
 "metadata": {
  "kernelspec": {
   "display_name": "Python 3 (ipykernel)",
   "language": "python",
   "name": "python3"
  },
  "language_info": {
   "codemirror_mode": {
    "name": "ipython",
    "version": 3
   },
   "file_extension": ".py",
   "mimetype": "text/x-python",
   "name": "python",
   "nbconvert_exporter": "python",
   "pygments_lexer": "ipython3",
   "version": "3.12.0"
  }
 },
 "nbformat": 4,
 "nbformat_minor": 5
}
